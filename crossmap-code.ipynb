{
 "cells": [
  {
   "cell_type": "markdown",
   "metadata": {},
   "source": [
    "# Crossmap Code"
   ]
  },
  {
   "cell_type": "markdown",
   "metadata": {},
   "source": [
    "## Setup"
   ]
  },
  {
   "cell_type": "markdown",
   "metadata": {},
   "source": [
    "### Install dependencies"
   ]
  },
  {
   "cell_type": "code",
   "execution_count": null,
   "metadata": {
    "colab": {
     "base_uri": "https://localhost:8080/"
    },
    "collapsed": true,
    "id": "vzT55JmuAZkf",
    "outputId": "c8db2ea0-a755-44e0-ed67-73575e72493a"
   },
   "outputs": [],
   "source": [
    "!pip install qiskit\n",
    "!pip install qiskit_optimization\n",
    "!pip install qiskit_aer\n",
    "!pip install qiskit_ionq"
   ]
  },
  {
   "cell_type": "code",
   "execution_count": 2,
   "metadata": {
    "colab": {
     "base_uri": "https://localhost:8080/"
    },
    "collapsed": true,
    "id": "Y39O4qxSF2Kc",
    "outputId": "9558bd03-b515-4ba1-ab4b-bdc8c47743e5"
   },
   "outputs": [],
   "source": [
    "# Uncomment the lines below if you have access to an IONQ backend (specified in .env)\n",
    "\n",
    "# import os\n",
    "# from dotenv import load_dotenv\n",
    "# load_dotenv()\n",
    "# from qiskit_ionq import IonQProvider\n",
    "# provider = IonQProvider(os.getenv('IONQ_PROVIDER_TOKEN'))\n",
    "# backend = provider.get_backend(\"ionq_simulator\")  # use this one to access a simulator of a quantum computer\n",
    "# backend = provider.get_backend(\"ionq_qpu.aria-1\") # use this one to access the actual quantum hardware called \"aria-1\""
   ]
  },
  {
   "cell_type": "code",
   "execution_count": 3,
   "metadata": {
    "id": "ljm-qEs8Cl2-"
   },
   "outputs": [],
   "source": [
    "from qiskit import *\n",
    "from qiskit.visualization import *\n",
    "from qiskit_optimization.converters import QuadraticProgramToQubo\n",
    "from qiskit_optimization.algorithms import MinimumEigenOptimizer\n"
   ]
  },
  {
   "cell_type": "code",
   "execution_count": 4,
   "metadata": {},
   "outputs": [],
   "source": [
    "import numpy as np\n",
    "from qiskit_optimization.algorithms import ADMMOptimizer\n",
    "from qiskit_optimization import QuadraticProgram\n",
    "from qiskit_aer import Aer\n",
    "from qiskit.primitives import Sampler\n",
    "from qiskit_optimization import QuadraticProgram\n",
    "from qiskit_optimization.algorithms import ADMMOptimizer, MinimumEigenOptimizer, ADMMParameters\n",
    "from qiskit_algorithms import QAOA\n",
    "from qiskit_algorithms.optimizers import COBYLA\n",
    "qp = QuadraticProgram()"
   ]
  },
  {
   "cell_type": "code",
   "execution_count": null,
   "metadata": {},
   "outputs": [],
   "source": [
    "!pip install matplotlib\n",
    "import matplotlib.pyplot as plt\n",
    "import numpy as np"
   ]
  },
  {
   "cell_type": "markdown",
   "metadata": {},
   "source": [
    "### Utility functions"
   ]
  },
  {
   "cell_type": "code",
   "execution_count": 60,
   "metadata": {},
   "outputs": [],
   "source": [
    "import numpy as np\n",
    "import matplotlib.pyplot as plt\n",
    "import matplotlib.colors as mcolors\n",
    "\n",
    "# Function to plot the matrix with color-coding and grid lines\n",
    "def plot_colored_matrix_with_grid(matrix, none_entry_color='white', cmap='Blues'):\n",
    "    # Convert the matrix to a numpy array for easier manipulation\n",
    "    matrix_np = np.array(matrix)\n",
    "\n",
    "    # Replace 0 with NaN to handle color map\n",
    "    matrix_with_nan = np.where(matrix_np == 0, np.nan, matrix_np)\n",
    "\n",
    "    # Create a custom colormap that includes the none_entry_color for NaN values\n",
    "    cmap = plt.get_cmap(cmap)\n",
    "    cmap.set_bad(color=none_entry_color)\n",
    "\n",
    "    # Normalize the colormap to start from white for 0\n",
    "    norm = mcolors.Normalize(vmin=0, vmax=np.nanmax(matrix_with_nan))\n",
    "\n",
    "    # Dynamically adjust figure size based on matrix dimensions\n",
    "    fig_width = max(8, matrix_np.shape[1] // 10)  # Adjust width dynamically\n",
    "    fig_height = max(8, matrix_np.shape[0] // 10)  # Adjust height dynamically\n",
    "    fig, ax = plt.subplots(figsize=(fig_width, fig_height))\n",
    "\n",
    "    # Use imshow to display the matrix, with grid lines and the color map\n",
    "    cax = ax.imshow(matrix_with_nan, cmap=cmap, norm=norm, interpolation='nearest')\n",
    "\n",
    "    # Add grid lines\n",
    "    ax.set_xticks(np.arange(-0.5, matrix_np.shape[1], 1), minor=True)\n",
    "    ax.set_yticks(np.arange(-0.5, matrix_np.shape[0], 1), minor=True)\n",
    "    ax.grid(which='minor', color='black', linestyle='-', linewidth=2)\n",
    "\n",
    "    # Hide ticks in the minor grid\n",
    "    ax.tick_params(which='minor', size=0)\n",
    "\n",
    "    # Handle large matrices by reducing the number of displayed ticks\n",
    "    if matrix_np.shape[1] > 50 or matrix_np.shape[0] > 50:\n",
    "        xtick_step = max(1, matrix_np.shape[1] // 10)\n",
    "        ytick_step = max(1, matrix_np.shape[0] // 10)\n",
    "        ax.set_xticks(np.arange(0, matrix_np.shape[1], xtick_step))\n",
    "        ax.set_yticks(np.arange(0, matrix_np.shape[0], ytick_step))\n",
    "    else:\n",
    "        ax.set_xticks(np.arange(matrix_np.shape[1]))\n",
    "        ax.set_yticks(np.arange(matrix_np.shape[0]))\n",
    "\n",
    "    # Set axis labels (matching the number of ticks with labels)\n",
    "    ax.set_xticklabels(np.arange(0, matrix_np.shape[1], xtick_step) if matrix_np.shape[1] > 50 else np.arange(matrix_np.shape[1]))\n",
    "    ax.set_yticklabels(np.arange(0, matrix_np.shape[0], ytick_step) if matrix_np.shape[0] > 50 else np.arange(matrix_np.shape[0]))\n",
    "\n",
    "    # Add color bar for reference\n",
    "    plt.colorbar(cax)\n",
    "\n",
    "    # Display the plot\n",
    "    plt.show()"
   ]
  },
  {
   "cell_type": "code",
   "execution_count": 7,
   "metadata": {
    "colab": {
     "base_uri": "https://localhost:8080/"
    },
    "id": "qBLkeghCGJnF",
    "outputId": "6f24351d-0026-4571-d49f-32fa41be9cbe"
   },
   "outputs": [],
   "source": [
    "# Create a 2D matrix filled with 0s and place nodes with optional radius metric\n",
    "# Returns a 'rows' by 'cols' 2D Array \n",
    "def create_matrix(rows, cols, node_placements=None, radius=None):\n",
    "    # Initialize the matrix with 0s\n",
    "    matrix = [[0 for _ in range(cols)] for _ in range(rows)]\n",
    "    \n",
    "    # If no node placements provided, return empty matrix\n",
    "    if node_placements is None:\n",
    "        return matrix\n",
    "\n",
    "    # Helper function to check if coordinates are within matrix bounds\n",
    "    def is_within_bounds(x, y):\n",
    "        return 0 <= x < rows and 0 <= y < cols\n",
    "\n",
    "    # Place nodes in the matrix\n",
    "    for x0, y0 in node_placements:\n",
    "        if is_within_bounds(x0, y0):\n",
    "            # If radius is specified, limit the distance expansion\n",
    "            limit_radius = radius if radius is not None else max(rows, cols)\n",
    "            # Determine the bounding box\n",
    "            x_min = max(0, x0 - limit_radius)\n",
    "            x_max = min(rows - 1, x0 + limit_radius)\n",
    "            y_min = max(0, y0 - limit_radius)\n",
    "            y_max = min(cols - 1, y0 + limit_radius)\n",
    "            # Iterate over the bounding box\n",
    "            for x in range(x_min, x_max + 1):\n",
    "                for y in range(y_min, y_max + 1):\n",
    "                    if matrix[x][y] == 0:\n",
    "                        # Compute Euclidean distance\n",
    "                        dist = ((x - x0)**2 + (y - y0)**2)**0.5\n",
    "                        # Calculate the value to be assigned\n",
    "                        value = max(0, int(round(limit_radius - dist)))\n",
    "                        if value > 0:\n",
    "                            matrix[x][y] = value\n",
    "    return matrix"
   ]
  },
  {
   "cell_type": "code",
   "execution_count": 29,
   "metadata": {},
   "outputs": [
    {
     "name": "stdout",
     "output_type": "stream",
     "text": [
      "- - 1 1 1 - - - - -\n",
      "- 1 2 2 2 1 - - - -\n",
      "1 2 3 3 3 2 1 - - -\n",
      "1 2 3 4 3 2 1 - - -\n",
      "1 2 3 3 3 2 1 - - -\n",
      "- 1 2 2 2 1 - - - -\n",
      "- - 1 1 1 - - - - -\n",
      "- - - - - - - - - -\n",
      "- - - - - - - - - -\n",
      "- - - - - - - - - -\n",
      "\n"
     ]
    }
   ],
   "source": [
    "# Convert the matrix to a string with dynamic spacing, adjusting based on the symbol length\n",
    "def matrix_to_string(matrix, none_entry_symbol='0'):\n",
    "    # If the none_entry_symbol is more than 1 character (like '42'), we use wider spacing\n",
    "    if len(str(none_entry_symbol)) > 1:\n",
    "        max_width = max(len(str(cell)) for row in matrix for cell in row)\n",
    "        cell_width = max(max_width, len(str(none_entry_symbol)))\n",
    "    else:\n",
    "        # For shorter symbols (like '-'), just use a single space\n",
    "        cell_width = 1\n",
    "\n",
    "    # Building the string representation of the matrix with appropriate spacing\n",
    "    result = \"\"\n",
    "    for row in matrix:\n",
    "        row_str = ' '.join([f'{str(cell):>{cell_width}}' if cell != 0 else f'{none_entry_symbol:>{cell_width}}' for cell in row])\n",
    "        result += row_str + \"\\n\"\n",
    "    \n",
    "    return result\n",
    "\n",
    "# Example usage\n",
    "matrix = create_matrix(10, 10, [(3, 3)], 4)\n",
    "matrix_str = matrix_to_string(matrix, '-')\n",
    "print(matrix_str)"
   ]
  },
  {
   "cell_type": "code",
   "execution_count": null,
   "metadata": {},
   "outputs": [],
   "source": [
    "# Creates a list where every element is a \n",
    "# flattend version of a 2D matrix (with rows*cols dimensions).\n",
    "# \n",
    "# Each list element represents one possible output of\n",
    "# where the new optimized node placement could be. \n",
    "\n",
    "# This will be used to feed as the distance (D) input for the algorithm\n",
    "def flatten_2D_to_1D(rows: int, cols: int, node_placements: list = [], radius: int = 2) -> list:\n",
    "  D = []\n",
    "  j = []\n",
    "  count = 0\n",
    "  for x in range(rows):\n",
    "    for y in range(cols):\n",
    "      count+=1\n",
    "      matrix = create_matrix(rows, cols, node_placements + [(x, y)], radius)\n",
    "      \n",
    "      # Replace entry (i,j) with a 1, to represent one possibility\n",
    "      for i in matrix:\n",
    "        j = j + i\n",
    "      D.append(j)\n",
    "      j = []\n",
    "\n",
    "  return D\n",
    "\n",
    "# Example 1:\n",
    "D = flatten_2D_to_1D(1, 3, [], 1)\n",
    "print(D)\n",
    "\n",
    "# Example 2:\n",
    "D = flatten_2D_to_1D(1, 3, [], 2)\n",
    "print(D)"
   ]
  },
  {
   "cell_type": "code",
   "execution_count": null,
   "metadata": {},
   "outputs": [],
   "source": [
    "# Unflatten a 1D array back into a 2D matrix representation \n",
    "\n",
    "# This will later be used for printing the results of the algorithm\n",
    "def unflatten_1D_to_2D_matrix(D: list, rows: int, cols: int, radius = 2):\n",
    "    unflattened = []\n",
    "    for i in range(rows):\n",
    "        row = []\n",
    "        for j in range(cols):\n",
    "            row.append(D[i * cols + j])\n",
    "        unflattened.append(row)\n",
    "    \n",
    "    # Create the matrix using the unflattened data\n",
    "    node_placements = [(i, j) for i in range(rows) for j in range(cols) if unflattened[i][j] != 0]\n",
    "    matrix = create_matrix(rows, cols, node_placements, radius)\n",
    "    \n",
    "    return matrix\n",
    "\n",
    "# Example 1:\n",
    "x_star = [0, 0, 0, 0, 1, 0, 0, 0, 0]\n",
    "result = unflatten_1D_to_2D_matrix(x_star, 3, 3)\n",
    "print(result)\n",
    "\n",
    "# # Example 2:\n",
    "x_star = [0, 1, 0]\n",
    "result = unflatten_1D_to_2D_matrix(x_star, 1, 3)\n",
    "print(result)"
   ]
  },
  {
   "cell_type": "markdown",
   "metadata": {},
   "source": [
    "## Results"
   ]
  },
  {
   "cell_type": "markdown",
   "metadata": {},
   "source": [
    "### Input:"
   ]
  },
  {
   "cell_type": "code",
   "execution_count": 61,
   "metadata": {},
   "outputs": [
    {
     "name": "stdout",
     "output_type": "stream",
     "text": [
      "Example 2: Create an empty 2x3 matrix\n",
      "Input: [[2, 1, 0, 1, 1, 0], [1, 2, 1, 1, 1, 1], [0, 1, 2, 0, 1, 1], [1, 1, 0, 2, 1, 0], [1, 1, 1, 1, 2, 1], [0, 1, 1, 0, 1, 2]]\n",
      "Matrix representation:\n",
      "0 0 0\n",
      "0 0 0\n",
      "\n"
     ]
    },
    {
     "name": "stderr",
     "output_type": "stream",
     "text": [
      "C:\\Users\\the10\\AppData\\Local\\Temp\\ipykernel_5352\\1397977089.py:18: RuntimeWarning: All-NaN slice encountered\n",
      "  norm = mcolors.Normalize(vmin=0, vmax=np.nanmax(matrix_with_nan))\n"
     ]
    },
    {
     "data": {
      "image/png": "[encoded data removed]",
      "text/plain": [
       "<Figure size 800x800 with 2 Axes>"
      ]
     },
     "metadata": {},
     "output_type": "display_data"
    }
   ],
   "source": [
    "# Example : Create an empty 1x3 matrix\n",
    "# rows = 1\n",
    "# cols = 3\n",
    "\n",
    "print(\"Example 2: Create an empty 2x3 matrix\")\n",
    "rows = 2\n",
    "cols = 3\n",
    "\n",
    "matrix = create_matrix(rows, cols)\n",
    "D = flatten_2D_to_1D(rows, cols)\n",
    "\n",
    "print(\"Input: \" + str(D))\n",
    "print(\"Matrix representation:\\n\" + str(matrix_to_string(matrix)))\n",
    "\n",
    "\n",
    "plot_colored_matrix_with_grid(matrix)"
   ]
  },
  {
   "cell_type": "markdown",
   "metadata": {},
   "source": [
    "### Algorithm:"
   ]
  },
  {
   "cell_type": "code",
   "execution_count": 23,
   "metadata": {
    "colab": {
     "base_uri": "https://localhost:8080/",
     "height": 411
    },
    "id": "W1rc3D6iCU6g",
    "outputId": "86ca191b-0468-422f-c838-16c01b2f678b"
   },
   "outputs": [
    {
     "name": "stderr",
     "output_type": "stream",
     "text": [
      "C:\\Users\\the10\\AppData\\Local\\Temp\\ipykernel_5352\\2655387447.py:31: DeprecationWarning: The class ``qiskit.primitives.sampler.Sampler`` is deprecated as of qiskit 1.2. It will be removed no earlier than 3 months after the release date. All implementations of the `BaseSamplerV1` interface have been deprecated in favor of their V2 counterparts. The V2 alternative for the `Sampler` class is `StatevectorSampler`.\n",
      "  sampler = Sampler()\n"
     ]
    },
    {
     "name": "stdout",
     "output_type": "stream",
     "text": [
      "        ┌───┐»\n",
      "   q_0: ┤ H ├»\n",
      "        ├───┤»\n",
      "   q_1: ┤ H ├»\n",
      "        ├───┤»\n",
      "   q_2: ┤ H ├»\n",
      "        ├───┤»\n",
      "   q_3: ┤ H ├»\n",
      "        ├───┤»\n",
      "   q_4: ┤ H ├»\n",
      "        ├───┤»\n",
      "   q_5: ┤ H ├»\n",
      "        └───┘»\n",
      "meas: 6/═════»\n",
      "             »\n",
      "«        ┌──────────────────────────────────────────────────────────────────────────────────────────────────────────────────────────────────────────────────────────────────────────────────────────────────────────────┐»\n",
      "«   q_0: ┤0                                                                                                                                                                                                             ├»\n",
      "«        │                                                                                                                                                                                                              │»\n",
      "«   q_1: ┤1                                                                                                                                                                                                             ├»\n",
      "«        │                                                                                                                                                                                                              │»\n",
      "«   q_2: ┤2                                                                                                                                                                                                             ├»\n",
      "«        │  exp(-it (IIIIIZ + IIIIZI + IIIZII + IIZIII + IZIIII + ZIIIII + IIIIZZ + IIIZIZ + IIZIIZ + IZIIIZ + ZIIIIZ + IIIZZI + IIZIZI + IZIIZI + ZIIIZI + IIZZII + IZIZII + ZIIZII + IZZIII + ZIZIII + ZZIIII))(γ[0]) │»\n",
      "«   q_3: ┤3                                                                                                                                                                                                             ├»\n",
      "«        │                                                                                                                                                                                                              │»\n",
      "«   q_4: ┤4                                                                                                                                                                                                             ├»\n",
      "«        │                                                                                                                                                                                                              │»\n",
      "«   q_5: ┤5                                                                                                                                                                                                             ├»\n",
      "«        └──────────────────────────────────────────────────────────────────────────────────────────────────────────────────────────────────────────────────────────────────────────────────────────────────────────────┘»\n",
      "«meas: 6/════════════════════════════════════════════════════════════════════════════════════════════════════════════════════════════════════════════════════════════════════════════════════════════════════════════════»\n",
      "«                                                                                                                                                                                                                        »\n",
      "«        ┌───────────────────────────────────────────────────────────────────────┐»\n",
      "«   q_0: ┤0                                                                      ├»\n",
      "«        │                                                                       │»\n",
      "«   q_1: ┤1                                                                      ├»\n",
      "«        │                                                                       │»\n",
      "«   q_2: ┤2                                                                      ├»\n",
      "«        │  exp(-it (XIIIII + IXIIII + IIXIII + IIIXII + IIIIXI + IIIIIX))(β[0]) │»\n",
      "«   q_3: ┤3                                                                      ├»\n",
      "«        │                                                                       │»\n",
      "«   q_4: ┤4                                                                      ├»\n",
      "«        │                                                                       │»\n",
      "«   q_5: ┤5                                                                      ├»\n",
      "«        └───────────────────────────────────────────────────────────────────────┘»\n",
      "«meas: 6/═════════════════════════════════════════════════════════════════════════»\n",
      "«                                                                                 »\n",
      "«         ░ ┌─┐               \n",
      "«   q_0: ─░─┤M├───────────────\n",
      "«         ░ └╥┘┌─┐            \n",
      "«   q_1: ─░──╫─┤M├────────────\n",
      "«         ░  ║ └╥┘┌─┐         \n",
      "«   q_2: ─░──╫──╫─┤M├─────────\n",
      "«         ░  ║  ║ └╥┘┌─┐      \n",
      "«   q_3: ─░──╫──╫──╫─┤M├──────\n",
      "«         ░  ║  ║  ║ └╥┘┌─┐   \n",
      "«   q_4: ─░──╫──╫──╫──╫─┤M├───\n",
      "«         ░  ║  ║  ║  ║ └╥┘┌─┐\n",
      "«   q_5: ─░──╫──╫──╫──╫──╫─┤M├\n",
      "«         ░  ║  ║  ║  ║  ║ └╥┘\n",
      "«meas: 6/════╩══╩══╩══╩══╩══╩═\n",
      "«            0  1  2  3  4  5 \n",
      "[0. 0. 0. 0. 0. 0.]\n",
      "[0. 1. 0. 0. 0. 0.]\n",
      "[0. 1. 0. 0. 1. 0.]\n",
      "[0. 1. 0. 0. 1. 0.]\n",
      "[0. 1. 0. 0. 1. 0.]\n",
      "x*: [0. 1. 0. 0. 1. 0.]) #, z*: [[1. 1. 1. 1. 1. 1.]\n",
      " [2. 2. 2. 2. 2. 2.]\n",
      " [1. 1. 1. 1. 1. 1.]\n",
      " [1. 1. 1. 1. 1. 1.]\n",
      " [2. 2. 2. 2. 2. 2.]\n",
      " [1. 1. 1. 1. 1. 1.]], lambda*: [[-1. -1. -1. -1. -1. -1.]\n",
      " [-1. -1. -1. -1. -1. -1.]\n",
      " [-1. -1. -1. -1. -1. -1.]\n",
      " [-1. -1. -1. -1. -1. -1.]\n",
      " [-1. -1. -1. -1. -1. -1.]\n",
      " [-1. -1. -1. -1. -1. -1.]], mu*: 0.9090909090909091\n",
      "<qiskit_optimization.algorithms.admm_optimizer.ADMMOptimizer object at 0x0000022EF8C9EE70>\n"
     ]
    }
   ],
   "source": [
    "D  = np.asarray(D)\n",
    "rho = 1.1\n",
    "mu0 = 1\n",
    "k = 0\n",
    "# Define the function L(x, z, lambda, mu) you want to optimize\n",
    "def L(x, z, lambda_, mu):\n",
    "    term1 = np.transpose(np.ones(len(D))) * x  # (1^T)x\n",
    "    term2 = np.transpose(lambda_)*D*x\n",
    "    term3 = (mu/2)*(np.transpose(x)*np.transpose(D)*D*x - np.transpose(np.ones(len(D)) + z)*D*x)\n",
    "    return term1 + term2 + term3\n",
    "\n",
    "# Define the constraint function c(x, z)\n",
    "def c(x,z):\n",
    "    x_reshaped = x.reshape((-1, 1))  # Reshape x to be compatible with D\n",
    "    return np.dot(D, x_reshaped) - np.ones_like(z) - z  # Use np.ones_like to match z's sha\n",
    "\n",
    "def Theta(z):\n",
    "    return np.array([1 if zi < 0 else 0 for zi in z])\n",
    "\n",
    "# Initialize parameters\n",
    "z_star = np.zeros_like(D)\n",
    "lambda_star = np.zeros_like(D)\n",
    "mu_star = mu0\n",
    "\n",
    "# Set up the quantum instance\n",
    "rho_initial = 1.1\n",
    "factor_c = 10.0\n",
    "beta = 100.0\n",
    "maxiter = 100\n",
    "admm_params = ADMMParameters(rho_initial=rho_initial, factor_c=factor_c, beta=beta, maxiter=maxiter)\n",
    "sampler = Sampler()\n",
    "qubo_optimizer = MinimumEigenOptimizer(QAOA(sampler = sampler, optimizer=COBYLA()))\n",
    "\n",
    "admm_optimizer = ADMMOptimizer(params=admm_params, qubo_optimizer=qubo_optimizer)\n",
    "\n",
    "\n",
    "'''\n",
    "rhs = 1\n",
    "linear_coeffs = {}\n",
    "for i in range(len(D)):\n",
    "    linear_coeffs[f'x_{i}'] = D[i, 0]  # Access the first element of the array\n",
    "qp.linear_constraint(linear=linear_coeffs, sense='==', rhs=rhs)\n",
    "'''\n",
    "# Initialize the optimizer\n",
    "\n",
    "# Optimization loop\n",
    "converged = False\n",
    "while not converged:\n",
    "  k += 1\n",
    "  qp = QuadraticProgram()\n",
    "  # Add variables to qp as necessary\n",
    "  for i in range(len(D)):\n",
    "      qp.binary_var(name=f'x_{i}')\n",
    "  # Linear terms\n",
    "  linear_terms = {}\n",
    "  for i in range(len(D)):\n",
    "      # Calculate the dot product and store the result as a single number\n",
    "      linear_terms[f'x_{i}'] = 1 + np.dot(lambda_star[i, :], D[:, i]) - 0.5 * mu_star * np.dot((1 + z_star[i, :]), D[:, i])  # Use slicing instead of flattening\n",
    "\n",
    "  # Quadratic terms\n",
    "  quadratic_terms = {}\n",
    "  for i in range(len(D)):\n",
    "      for j in range(i, len(D)):\n",
    "          quadratic_terms[(f'x_{i}', f'x_{j}')] = 0.5 * mu_star * np.dot(D[:, i], D[:, j])\n",
    "\n",
    "  # Define the objective function and constraints in qp\n",
    "  #qp.minimize(lambda x: L(x, z_star, lambda_star, mu_star))\n",
    "  qp.minimize(linear=linear_terms, quadratic=quadratic_terms)\n",
    "\n",
    "  # Step 5: Use a quantum annealer (QAOA here) to minimize L(x, z*, lambda*, mu*)\n",
    "  result = admm_optimizer.solve(qp)\n",
    "  if (k == 1):\n",
    "      circuit = qubo_optimizer.min_eigen_solver.ansatz\n",
    "      print(circuit)\n",
    "  x_star = result.x[:9]\n",
    "  print(x_star)\n",
    "  # Step 6: Optimization for z\n",
    "  z_temp = z_star\n",
    "  z_star = np.maximum(np.zeros_like(D), c(x_star, z_star)+z_star)\n",
    "  #print(\"z\",z_star)\n",
    "  # Step 7: Update lambda_star\n",
    "  lambda_star = lambda_star + mu_star * c(x_star, z_star)\n",
    "  #print(lambda_star)\n",
    "  # Step 8: Update mu_star (this depends on your specific update rule)\n",
    "  ten_percent_mu = 0.1 * mu_star\n",
    "  #print(np.linalg.norm(c(x_star, z_star)))\n",
    "  #print(np.linalg.norm(D * -1*(z_temp - z_star)))\n",
    "  if np.linalg.norm(c(x_star, z_star)) > 10 * mu_star * np.linalg.norm(D * -1*(z_temp - z_star)):\n",
    "    mu_star = rho*mu_star\n",
    "  elif 10 * mu_star * np.linalg.norm(c(x_star, z_star)) < np.linalg.norm(D * -1*(z_temp - z_star)):\n",
    "    mu_star = mu_star/rho\n",
    "\n",
    "  # Step 9: Check convergence criterion\n",
    "  if k == 5:\n",
    "    converged = True\n",
    "# Output the optimized values\n",
    "print(f\"x*: {x_star}) #, z*: {z_star}, lambda*: {lambda_star}, mu*: {mu_star}\")\n",
    "\n",
    "print(admm_optimizer)"
   ]
  },
  {
   "cell_type": "markdown",
   "metadata": {},
   "source": [
    "### Output \n",
    "Plots the result from running the above algorithm."
   ]
  },
  {
   "cell_type": "code",
   "execution_count": 62,
   "metadata": {},
   "outputs": [
    {
     "name": "stdout",
     "output_type": "stream",
     "text": [
      "Result: [[1, 2, 1], [1, 1, 1]]\n",
      "Matrix representation: \n",
      "1 2 1\n",
      "1 1 1\n",
      "\n"
     ]
    },
    {
     "data": {
      "image/png": "[encoded data removed]",
      "text/plain": [
       "<Figure size 800x800 with 2 Axes>"
      ]
     },
     "metadata": {},
     "output_type": "display_data"
    }
   ],
   "source": [
    "result = unflatten_1D_to_2D_matrix(x_star, rows, cols)\n",
    "print(f\"Result: {result}\")\n",
    "print(f\"Matrix representation: \\n{matrix_to_string(result)}\")\n",
    "plot_colored_matrix_with_grid(result)"
   ]
  }
 ],
 "metadata": {
  "colab": {
   "provenance": []
  },
  "kernelspec": {
   "display_name": "Python 3",
   "name": "python3"
  },
  "language_info": {
   "codemirror_mode": {
    "name": "ipython",
    "version": 3
   },
   "file_extension": ".py",
   "mimetype": "text/x-python",
   "name": "python",
   "nbconvert_exporter": "python",
   "pygments_lexer": "ipython3",
   "version": "3.12.0"
  }
 },
 "nbformat": 4,
 "nbformat_minor": 0
}
