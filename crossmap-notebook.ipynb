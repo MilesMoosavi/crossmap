{
 "cells": [
  {
   "cell_type": "markdown",
   "metadata": {},
   "source": [
    "# Crossmap Notebook"
   ]
  },
  {
   "cell_type": "markdown",
   "metadata": {},
   "source": [
    "## Setup\n",
    "Collapse and run this block before the results."
   ]
  },
  {
   "cell_type": "markdown",
   "metadata": {},
   "source": [
    "### Install dependencies"
   ]
  },
  {
   "cell_type": "code",
   "execution_count": null,
   "metadata": {
    "colab": {
     "base_uri": "https://localhost:8080/"
    },
    "collapsed": true,
    "id": "Y39O4qxSF2Kc",
    "outputId": "9558bd03-b515-4ba1-ab4b-bdc8c47743e5"
   },
   "outputs": [],
   "source": [
    "# Uncomment the lines below if you have access to an IONQ backend (specified in .env)\n",
    "\n",
    "# import os\n",
    "# from dotenv import load_dotenv\n",
    "# load_dotenv()\n",
    "# from qiskit_ionq import IonQProvider\n",
    "# provider = IonQProvider(os.getenv('IONQ_PROVIDER_TOKEN'))\n",
    "# backend = provider.get_backend(\"ionq_simulator\")  # use this one to access a simulator of a quantum computer\n",
    "# backend = provider.get_backend(\"ionq_qpu.aria-1\") # use this one to access the actual quantum hardware called \"aria-1\""
   ]
  },
  {
   "cell_type": "code",
   "execution_count": null,
   "metadata": {
    "colab": {
     "base_uri": "https://localhost:8080/"
    },
    "collapsed": true,
    "id": "vzT55JmuAZkf",
    "outputId": "c8db2ea0-a755-44e0-ed67-73575e72493a"
   },
   "outputs": [],
   "source": [
    "!pip install qiskit\n",
    "!pip install qiskit_optimization\n",
    "!pip install qiskit_aer\n",
    "!pip install qiskit_ionq"
   ]
  },
  {
   "cell_type": "code",
   "execution_count": null,
   "metadata": {
    "id": "ljm-qEs8Cl2-"
   },
   "outputs": [],
   "source": [
    "from qiskit import *\n",
    "from qiskit.visualization import *\n",
    "from qiskit_optimization.converters import QuadraticProgramToQubo\n",
    "from qiskit_optimization.algorithms import MinimumEigenOptimizer"
   ]
  },
  {
   "cell_type": "code",
   "execution_count": null,
   "metadata": {},
   "outputs": [],
   "source": [
    "import numpy as np\n",
    "from qiskit_optimization.algorithms import ADMMOptimizer\n",
    "from qiskit_optimization import QuadraticProgram\n",
    "from qiskit_aer import Aer\n",
    "from qiskit.primitives import Sampler\n",
    "from qiskit_optimization import QuadraticProgram\n",
    "from qiskit_optimization.algorithms import ADMMOptimizer, MinimumEigenOptimizer, ADMMParameters\n",
    "from qiskit_algorithms import QAOA\n",
    "from qiskit_algorithms.optimizers import COBYLA\n",
    "qp = QuadraticProgram()"
   ]
  },
  {
   "cell_type": "code",
   "execution_count": null,
   "metadata": {},
   "outputs": [],
   "source": [
    "!pip install ortools\n",
    "from ortools.linear_solver import pywraplp\n",
    "import time  # for timing comparisons"
   ]
  },
  {
   "cell_type": "code",
   "execution_count": null,
   "metadata": {},
   "outputs": [],
   "source": [
    "!pip install matplotlib\n",
    "import matplotlib.pyplot as plt\n",
    "import numpy as np\n",
    "import matplotlib.colors as mcolors"
   ]
  },
  {
   "cell_type": "markdown",
   "metadata": {},
   "source": [
    "### Utility functions"
   ]
  },
  {
   "cell_type": "markdown",
   "metadata": {},
   "source": [
    "#### Matrix Operations"
   ]
  },
  {
   "cell_type": "code",
   "execution_count": null,
   "metadata": {
    "colab": {
     "base_uri": "https://localhost:8080/"
    },
    "id": "qBLkeghCGJnF",
    "outputId": "6f24351d-0026-4571-d49f-32fa41be9cbe"
   },
   "outputs": [],
   "source": [
    "# Create a 2D matrix filled with 0s and place nodes with optional radius metric\n",
    "# Returns a 'rows' by 'cols' 2D Array \n",
    "def create_matrix(rows, cols, node_placements=None, radius=None):\n",
    "    # Initialize the matrix with 0s\n",
    "    matrix = [[0 for _ in range(cols)] for _ in range(rows)]\n",
    "    \n",
    "    # If no node placements provided, return empty matrix\n",
    "    if node_placements is None:\n",
    "        return matrix\n",
    "\n",
    "    # Helper function to check if coordinates are within matrix bounds\n",
    "    def is_within_bounds(x, y):\n",
    "        return 0 <= x < rows and 0 <= y < cols\n",
    "\n",
    "    # Place nodes in the matrix\n",
    "    for x0, y0 in node_placements:\n",
    "        if is_within_bounds(x0, y0):\n",
    "            # If radius is specified, limit the distance expansion\n",
    "            limit_radius = radius if radius is not None else max(rows, cols)\n",
    "            # Determine the bounding box\n",
    "            x_min = max(0, x0 - limit_radius)\n",
    "            x_max = min(rows - 1, x0 + limit_radius)\n",
    "            y_min = max(0, y0 - limit_radius)\n",
    "            y_max = min(cols - 1, y0 + limit_radius)\n",
    "            # Iterate over the bounding box\n",
    "            for x in range(x_min, x_max + 1):\n",
    "                for y in range(y_min, y_max + 1):\n",
    "                    if matrix[x][y] == 0:\n",
    "                        # Compute Euclidean distance\n",
    "                        dist = ((x - x0)**2 + (y - y0)**2)**0.5\n",
    "                        # Calculate the value to be assigned\n",
    "                        value = max(0, int(round(limit_radius - dist)))\n",
    "                        if value > 0:\n",
    "                            matrix[x][y] = value\n",
    "    return matrix"
   ]
  },
  {
   "cell_type": "code",
   "execution_count": null,
   "metadata": {},
   "outputs": [],
   "source": [
    "# Convert the matrix to a string with dynamic spacing, adjusting based on the symbol length\n",
    "def matrix_to_string(matrix, none_entry_symbol='0'):\n",
    "    # If the none_entry_symbol is more than 1 character (like '42'), we use wider spacing\n",
    "    if len(str(none_entry_symbol)) > 1:\n",
    "        max_width = max(len(str(cell)) for row in matrix for cell in row)\n",
    "        cell_width = max(max_width, len(str(none_entry_symbol)))\n",
    "    else:\n",
    "        # For shorter symbols (like '-'), just use a single space\n",
    "        cell_width = 1\n",
    "\n",
    "    # Building the string representation of the matrix with appropriate spacing\n",
    "    result = \"\"\n",
    "    for row in matrix:\n",
    "        row_str = ' '.join([f'{str(cell):>{cell_width}}' if cell != 0 else f'{none_entry_symbol:>{cell_width}}' for cell in row])\n",
    "        result += row_str + \"\\n\"\n",
    "    \n",
    "    return result\n",
    "\n",
    "# Example usage\n",
    "matrix = create_matrix(10, 10, [(3, 3)], 4)\n",
    "matrix_str = matrix_to_string(matrix, '-')\n",
    "print(matrix_str)"
   ]
  },
  {
   "cell_type": "code",
   "execution_count": null,
   "metadata": {},
   "outputs": [],
   "source": []
  },
  {
   "cell_type": "markdown",
   "metadata": {},
   "source": [
    "#### Dimension Transformations"
   ]
  },
  {
   "cell_type": "code",
   "execution_count": null,
   "metadata": {},
   "outputs": [],
   "source": [
    "# Creates a list where every element is a \n",
    "# flattend version of a 2D matrix (with rows*cols dimensions).\n",
    "# \n",
    "# Each list element represents one possible output of\n",
    "# where the new optimized node placement could be. \n",
    "\n",
    "# This will be used to feed as the distance (D) input for the algorithm\n",
    "def flatten_2D_to_1D(rows: int, cols: int, node_placements: list = [], radius: int = 2) -> list:\n",
    "  D = []\n",
    "  j = []\n",
    "  count = 0\n",
    "  for x in range(rows):\n",
    "    for y in range(cols):\n",
    "      count+=1\n",
    "      matrix = create_matrix(rows, cols, node_placements + [(x, y)], radius)\n",
    "      \n",
    "      # Replace entry (i,j) with a 1, to represent one possibility\n",
    "      for i in matrix:\n",
    "        j = j + i\n",
    "      D.append(j)\n",
    "      j = []\n",
    "\n",
    "  return D\n",
    "\n",
    "# Example 1:\n",
    "D = flatten_2D_to_1D(1, 3, [], 1)\n",
    "print(D)\n",
    "\n",
    "# Example 2:\n",
    "D = flatten_2D_to_1D(1, 3, [], 2)\n",
    "print(D)"
   ]
  },
  {
   "cell_type": "code",
   "execution_count": null,
   "metadata": {},
   "outputs": [],
   "source": [
    "# Unflatten a 1D array back into a 2D matrix representation \n",
    "# This will later be used for printing the results of the algorithm\n",
    "def unflatten_1D_to_2D_matrix(D: list, rows: int, cols: int, radius = 2):\n",
    "    unflattened = []\n",
    "    for i in range(rows):\n",
    "        row = []\n",
    "        for j in range(cols):\n",
    "            row.append(D[i * cols + j])\n",
    "        unflattened.append(row)\n",
    "    \n",
    "    # Create the matrix using the unflattened data\n",
    "    node_placements = [(i, j) for i in range(rows) for j in range(cols) if unflattened[i][j] != 0]\n",
    "    matrix = create_matrix(rows, cols, node_placements, radius)\n",
    "    \n",
    "    return matrix\n",
    "\n",
    "# Example 1:\n",
    "x_star = [0, 0, 0, 0, 1, 0, 0, 0, 0]\n",
    "result = unflatten_1D_to_2D_matrix(x_star, 3, 3)\n",
    "print(result)\n",
    "\n",
    "# # Example 2:\n",
    "x_star = [0, 1, 0]\n",
    "result = unflatten_1D_to_2D_matrix(x_star, 1, 3)\n",
    "print(result)"
   ]
  },
  {
   "cell_type": "code",
   "execution_count": null,
   "metadata": {},
   "outputs": [],
   "source": [
    "def plot_colored_matrix_with_grid(matrix, ax=None, none_entry_color='white', cmap='Blues', show_colorbar=True):\n",
    "    try:\n",
    "        matrix_np = np.array(matrix)\n",
    "        matrix_with_nan = np.where(matrix_np == 0, np.nan, matrix_np)\n",
    "\n",
    "        # Create colormap\n",
    "        cmap = plt.get_cmap(cmap)\n",
    "        cmap.set_bad(color=none_entry_color)\n",
    "\n",
    "        # Handle normalization\n",
    "        if np.all(np.isnan(matrix_with_nan)):\n",
    "            norm = mcolors.Normalize(vmin=0, vmax=1)\n",
    "        else:\n",
    "            norm = mcolors.Normalize(vmin=0, vmax=np.nanmax(matrix_with_nan))\n",
    "\n",
    "        # Create figure if needed\n",
    "        fig = None\n",
    "        if ax is None:\n",
    "            fig_width = max(8, matrix_np.shape[1] // 10)\n",
    "            fig_height = max(8, matrix_np.shape[0] // 10)\n",
    "            fig, ax = plt.subplots(figsize=(fig_width, fig_height))\n",
    "\n",
    "        # Plot matrix and store the return value\n",
    "        img = ax.imshow(matrix_with_nan, cmap=cmap, norm=norm, interpolation='nearest')\n",
    "\n",
    "        # Grid lines\n",
    "        ax.set_xticks(np.arange(-0.5, matrix_np.shape[1], 1), minor=True)\n",
    "        ax.set_yticks(np.arange(-0.5, matrix_np.shape[0], 1), minor=True)\n",
    "        ax.grid(which='minor', color='black', linestyle='-', linewidth=2)\n",
    "        ax.tick_params(which='minor', size=0)\n",
    "\n",
    "        # Ticks and labels\n",
    "        if matrix_np.shape[1] > 50 or matrix_np.shape[0] > 50:\n",
    "            xtick_step = max(1, matrix_np.shape[1] // 10)\n",
    "            ytick_step = max(1, matrix_np.shape[0] // 10)\n",
    "            ax.set_xticks(np.arange(0, matrix_np.shape[1], xtick_step))\n",
    "            ax.set_yticks(np.arange(0, matrix_np.shape[0], ytick_step))\n",
    "            ax.set_xticklabels(np.arange(0, matrix_np.shape[1], xtick_step))\n",
    "            ax.set_yticklabels(np.arange(0, matrix_np.shape[0], ytick_step))\n",
    "        else:\n",
    "            ax.set_xticks(np.arange(matrix_np.shape[1]))\n",
    "            ax.set_yticks(np.arange(matrix_np.shape[0]))\n",
    "            ax.set_xticklabels(np.arange(matrix_np.shape[1]))\n",
    "            ax.set_yticklabels(np.arange(matrix_np.shape[0]))\n",
    "\n",
    "        # Add colorbar only if requested\n",
    "        if show_colorbar:\n",
    "            plt.colorbar(img, ax=ax)\n",
    "\n",
    "        return img\n",
    "\n",
    "    except Exception as e:\n",
    "        print(f\"Error in plot_colored_matrix_with_grid: {str(e)}\")\n",
    "        return None"
   ]
  },
  {
   "cell_type": "code",
   "execution_count": null,
   "metadata": {},
   "outputs": [],
   "source": [
    "def calculate_solution_stats(matrix, time=None):\n",
    "    \"\"\"Calculate and format statistics for a solution matrix\"\"\"\n",
    "    # Count nodes (non-zero values)\n",
    "    nodes_placed = len([x for row in matrix for x in row if x > 1])\n",
    "    \n",
    "    # Calculate coverage\n",
    "    total_cells = len(matrix) * len(matrix[0])\n",
    "    covered_cells = len([x for row in matrix for x in row if x >= 1])\n",
    "    coverage = covered_cells / total_cells * 100\n",
    "    \n",
    "    # Format stats vertically\n",
    "    if time is not None:\n",
    "        stats_text = f'Time: {time:.2f}s\\nNodes: {nodes_placed}\\nCoverage: {coverage:.1f}%'\n",
    "    else:\n",
    "        stats_text = f'Nodes: {nodes_placed}\\nCoverage: {coverage:.1f}%'\n",
    "        \n",
    "    return {\n",
    "        'nodes': nodes_placed,\n",
    "        'coverage': coverage,\n",
    "        'formatted_text': stats_text\n",
    "    }"
   ]
  },
  {
   "cell_type": "code",
   "execution_count": null,
   "metadata": {},
   "outputs": [],
   "source": [
    "def plot_solutions_comparison(quantum_solution, classical_solution, quantum_time, classical_time, rows, cols, radius):\n",
    "    \"\"\"Plot input and solutions side by side with statistics\"\"\"\n",
    "    # Create figure with subplots\n",
    "    fig = plt.figure(figsize=(15, 12))\n",
    "    gs = fig.add_gridspec(3, 2, height_ratios=[0.5, 2, 0.5], hspace=0.4)\n",
    "    \n",
    "    # Main title - larger, bolder\n",
    "    fig.suptitle(f'Grid Configuration: {rows}x{cols} with radius {radius}', \n",
    "                 fontsize=20, y=0.98, weight='bold')\n",
    "    \n",
    "    # Top row - input visualization\n",
    "    ax_input = fig.add_subplot(gs[0, :])\n",
    "    empty_matrix = [[0 for _ in range(cols)] for _ in range(rows)]\n",
    "    plot_colored_matrix_with_grid(empty_matrix, ax=ax_input, show_colorbar=False)\n",
    "    ax_input.set_title('Input Grid', fontsize=16, weight='bold', pad=20)\n",
    "    \n",
    "    # Middle row - solutions with larger titles\n",
    "    ax1 = fig.add_subplot(gs[1, 0])\n",
    "    ax2 = fig.add_subplot(gs[1, 1])\n",
    "    \n",
    "    # Calculate stats\n",
    "    q_stats = calculate_solution_stats(quantum_solution, quantum_time)\n",
    "    c_stats = calculate_solution_stats(classical_solution, classical_time)\n",
    "    \n",
    "    # Plot solutions\n",
    "    plot_colored_matrix_with_grid(quantum_solution, ax=ax1, show_colorbar=False)\n",
    "    im = plot_colored_matrix_with_grid(classical_solution, ax=ax2, show_colorbar=False)\n",
    "    \n",
    "    # Set solution title\n",
    "    ax1.set_title(\"Quantum Solution\", fontsize=16, weight='bold', pad=10)\n",
    "    ax2.set_title(\"Classical Solution\", fontsize=16, weight='bold', pad=10)\n",
    "    \n",
    "    # Bottom row - stats text\n",
    "    ax_stats1 = fig.add_subplot(gs[2, 0])\n",
    "    ax_stats2 = fig.add_subplot(gs[2, 1])\n",
    "    \n",
    "    # Stats formattin\n",
    "    stats_style = dict(\n",
    "        ha='center', \n",
    "        va='center', \n",
    "        fontsize=35,  # Increased from 14 to 16\n",
    "    )\n",
    "    \n",
    "    # Add stats text\n",
    "    ax_stats1.text(0.5, 0.5, q_stats['formatted_text'], **stats_style)\n",
    "    ax_stats2.text(0.5, 0.5, c_stats['formatted_text'], **stats_style)\n",
    "    \n",
    "    # Hide stats axes\n",
    "    ax_stats1.axis('off')\n",
    "    ax_stats2.axis('off')\n",
    "    \n",
    "    # Add single colorbar at bottom\n",
    "    cbar_ax = fig.add_axes([0.92, 0.15, 0.02, 0.7])\n",
    "    plt.colorbar(im, cax=cbar_ax)\n",
    "    \n",
    "    # Adjust layout\n",
    "    plt.tight_layout()\n",
    "    plt.subplots_adjust(right=0.9)\n",
    "    plt.show()"
   ]
  },
  {
   "cell_type": "markdown",
   "metadata": {},
   "source": [
    "### Algorithm Implementation"
   ]
  },
  {
   "cell_type": "markdown",
   "metadata": {},
   "source": [
    "#### Solve using Classical Optimization"
   ]
  },
  {
   "cell_type": "code",
   "execution_count": null,
   "metadata": {},
   "outputs": [],
   "source": [
    "def run_classical_optimization(rows: int, cols: int, radius: int = 2):\n",
    "    \"\"\"Classical optimization using Google OR-Tools.\"\"\"\n",
    "    solver = pywraplp.Solver.CreateSolver('SCIP')\n",
    "    \n",
    "    # Variables\n",
    "    x = {}\n",
    "    for i in range(rows):\n",
    "        for j in range(cols):\n",
    "            x[i,j] = solver.IntVar(0, 1, f'x_{i}_{j}')\n",
    "            \n",
    "    # Coverage constraints\n",
    "    for i in range(rows):\n",
    "        for j in range(cols):\n",
    "            coverage = []\n",
    "            for ni in range(max(0, i-radius), min(rows, i+radius+1)):\n",
    "                for nj in range(max(0, j-radius), min(cols, j+radius+1)):\n",
    "                    if ((ni-i)**2 + (nj-j)**2)**0.5 <= radius:\n",
    "                        coverage.append(x[ni,nj])\n",
    "            solver.Add(sum(coverage) >= 1)\n",
    "    \n",
    "    solver.Minimize(sum(x.values()))\n",
    "    status = solver.Solve()\n",
    "    \n",
    "    if status == pywraplp.Solver.OPTIMAL:\n",
    "        # Get node placements from solution\n",
    "        node_placements = []\n",
    "        for i in range(rows):\n",
    "            for j in range(cols):\n",
    "                if int(x[i,j].solution_value()) == 1:\n",
    "                    node_placements.append((i,j))\n",
    "        \n",
    "        # Create matrix with radius reflection using create_matrix()\n",
    "        solution = create_matrix(rows, cols, node_placements, radius)\n",
    "        return solution, solver.Objective().Value()\n",
    "    \n",
    "    return None, None"
   ]
  },
  {
   "cell_type": "markdown",
   "metadata": {},
   "source": [
    "#### Solve using Quantum Optimization:\n",
    "This is the implemented QUBO algorithm to focus on."
   ]
  },
  {
   "cell_type": "code",
   "execution_count": null,
   "metadata": {},
   "outputs": [],
   "source": [
    "def run_quantum_optimization(rows: int, cols: int, radius: int = 2, debug_circuit: bool = False, debug_iterations: bool = False):\n",
    "    # Step 1: Generate and prepare initial data\n",
    "    D = flatten_2D_to_1D(rows, cols, [], radius)\n",
    "    D = np.asarray(D)\n",
    "    rho = 1.1\n",
    "    mu0 = 1\n",
    "    k = 0\n",
    "\n",
    "    # Step 2: Initialize optimization parameters\n",
    "    z_star = np.zeros_like(D)\n",
    "    lambda_star = np.zeros_like(D)\n",
    "    mu_star = mu0\n",
    "\n",
    "    # Step 3: Define helper functions\n",
    "    def L(x, z, lambda_, mu):\n",
    "        term1 = np.transpose(np.ones(len(D))) * x\n",
    "        term2 = np.transpose(lambda_)*D*x\n",
    "        term3 = (mu/2)*(np.transpose(x)*np.transpose(D)*D*x - np.transpose(np.ones(len(D)) + z)*D*x)\n",
    "        return term1 + term2 + term3\n",
    "\n",
    "    def c(x,z):\n",
    "        x_reshaped = x.reshape((-1, 1))\n",
    "        return np.dot(D, x_reshaped) - np.ones_like(z) - z\n",
    "\n",
    "    # Step 4: Set up quantum instance\n",
    "    rho_initial = 1.1\n",
    "    factor_c = 10.0\n",
    "    beta = 100.0\n",
    "    maxiter = 100\n",
    "    admm_params = ADMMParameters(rho_initial=rho_initial, factor_c=factor_c, beta=beta, maxiter=maxiter)\n",
    "    sampler = Sampler()\n",
    "    qubo_optimizer = MinimumEigenOptimizer(QAOA(sampler=sampler, optimizer=COBYLA()))\n",
    "    admm_optimizer = ADMMOptimizer(params=admm_params, qubo_optimizer=qubo_optimizer)\n",
    "\n",
    "    # Step 5: Optimization loop\n",
    "    converged = False\n",
    "    while not converged:\n",
    "        k += 1\n",
    "        qp = QuadraticProgram()\n",
    "        \n",
    "        for i in range(len(D)):\n",
    "            qp.binary_var(name=f'x_{i}')\n",
    "\n",
    "        linear_terms = {}\n",
    "        for i in range(len(D)):\n",
    "            linear_terms[f'x_{i}'] = 1 + np.dot(lambda_star[i, :], D[:, i]) - 0.5 * mu_star * np.dot((1 + z_star[i, :]), D[:, i])\n",
    "\n",
    "        quadratic_terms = {}\n",
    "        for i in range(len(D)):\n",
    "            for j in range(i, len(D)):\n",
    "                quadratic_terms[(f'x_{i}', f'x_{j}')] = 0.5 * mu_star * np.dot(D[:, i], D[:, j])\n",
    "\n",
    "        qp.minimize(linear=linear_terms, quadratic=quadratic_terms)\n",
    "\n",
    "        # Step 6: Solve and print iteration results\n",
    "        result = admm_optimizer.solve(qp)\n",
    "        if (k == 1 and debug_circuit):\n",
    "            # print(circuit)\n",
    "            circuit = qubo_optimizer.min_eigen_solver.ansatz\n",
    "            # Save circuit image directly\n",
    "            circuit.draw(output='mpl', \n",
    "                        filename='quantum_circuit.png',\n",
    "                        style={'backgroundcolor': '#FFFFFF'})\n",
    "            \n",
    "            # Display saved image in notebook\n",
    "            from IPython.display import Image\n",
    "            display(Image('quantum_circuit.png'))\n",
    "            \n",
    "        x_star = result.x[:9] if len(D) == 9 else result.x[:rows*cols]\n",
    "        if debug_iterations:\n",
    "            print(f\"Iteration {k} x_star:\", x_star)\n",
    "\n",
    "        # Step 7: Update z\n",
    "        z_temp = z_star\n",
    "        z_star = np.maximum(np.zeros_like(D), c(x_star, z_star)+z_star)\n",
    "\n",
    "        # Step 8: Update lambda\n",
    "        lambda_star = lambda_star + mu_star * c(x_star, z_star)\n",
    "\n",
    "        # Step 9: Update mu\n",
    "        if np.linalg.norm(c(x_star, z_star)) > 10 * mu_star * np.linalg.norm(D * -1*(z_temp - z_star)):\n",
    "            mu_star = rho*mu_star\n",
    "        elif 10 * mu_star * np.linalg.norm(c(x_star, z_star)) < np.linalg.norm(D * -1*(z_temp - z_star)):\n",
    "            mu_star = mu_star/rho\n",
    "\n",
    "        if k == 5:\n",
    "            converged = True\n",
    "\n",
    "    # Convert and return result\n",
    "    final_matrix = unflatten_1D_to_2D_matrix(x_star, rows, cols, radius)\n",
    "    return final_matrix"
   ]
  },
  {
   "cell_type": "markdown",
   "metadata": {},
   "source": [
    "#### Visualization"
   ]
  },
  {
   "cell_type": "markdown",
   "metadata": {},
   "source": [
    "## Results\n",
    "Run this block after setup."
   ]
  },
  {
   "cell_type": "markdown",
   "metadata": {},
   "source": [
    "### Comparison Tests\n",
    "Testing different grid configurations and comparing quantum vs classical solutions."
   ]
  },
  {
   "cell_type": "code",
   "execution_count": null,
   "metadata": {},
   "outputs": [],
   "source": [
    "# Test configurations (comment/uncomment any of the below, or make your own)\n",
    "test_configs = [\n",
    "    (1, 3, 2),  # Small linear grid\n",
    "    # (1, 5, 2),  # Medium linear grid \n",
    "    # (2, 3, 2),  # Small rectangular grid\n",
    "    # (2, 5, 2)  # Medium rectangular grid\n",
    "    # (2, 2, 2),   # Small square grid\n",
    "    # (3, 3, 2)   # Medium square grid\n",
    "]\n",
    "\n",
    "# Run comparison tests\n",
    "for rows, cols, radius in test_configs:\n",
    "    print(f\"\\nTesting {rows}x{cols} grid with radius {radius}\")\n",
    "    \n",
    "    # Time classical solution\n",
    "    t0 = time.time()\n",
    "    classical_solution, objective = run_classical_optimization(rows, cols, radius)\n",
    "    classical_time = time.time() - t0\n",
    "    \n",
    "    # Time quantum solution\n",
    "    t0 = time.time()\n",
    "    quantum_solution = run_quantum_optimization(rows, cols, radius)\n",
    "    quantum_time = time.time() - t0\n",
    "    \n",
    "    # Plot comparison with stats and dimensions\n",
    "    plot_solutions_comparison(\n",
    "        quantum_solution,\n",
    "        classical_solution, \n",
    "        quantum_time,\n",
    "        classical_time,\n",
    "        rows,\n",
    "        cols, \n",
    "        radius\n",
    "    )"
   ]
  }
 ],
 "metadata": {
  "colab": {
   "provenance": []
  },
  "kernelspec": {
   "display_name": "Python 3",
   "name": "python3"
  },
  "language_info": {
   "codemirror_mode": {
    "name": "ipython",
    "version": 3
   },
   "file_extension": ".py",
   "mimetype": "text/x-python",
   "name": "python",
   "nbconvert_exporter": "python",
   "pygments_lexer": "ipython3",
   "version": "3.12.0"
  }
 },
 "nbformat": 4,
 "nbformat_minor": 0
}
